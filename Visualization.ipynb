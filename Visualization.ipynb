{
 "cells": [
  {
   "cell_type": "markdown",
   "metadata": {},
   "source": [
    "# Importing libararies"
   ]
  },
  {
   "cell_type": "code",
   "execution_count": 14,
   "metadata": {},
   "outputs": [],
   "source": [
    "import numpy as np\n",
    "import pandas as pd\n",
    "from sklearn.model_selection import train_test_split\n",
    "from sklearn.preprocessing import StandardScaler\n",
    "from sklearn import svm\n",
    "from sklearn.metrics import accuracy_score"
   ]
  },
  {
   "cell_type": "markdown",
   "metadata": {},
   "source": [
    "# Loading the dataset"
   ]
  },
  {
   "cell_type": "code",
   "execution_count": 15,
   "metadata": {},
   "outputs": [
    {
     "name": "stdout",
     "output_type": "stream",
     "text": [
      "<class 'pandas.core.frame.DataFrame'>\n",
      "RangeIndex: 197 entries, 0 to 196\n",
      "Data columns (total 24 columns):\n",
      " #   Column           Non-Null Count  Dtype  \n",
      "---  ------           --------------  -----  \n",
      " 0   Disclaimer       25 non-null     object \n",
      " 1   ID               197 non-null    int64  \n",
      " 2   Site             197 non-null    int64  \n",
      " 3   Gender           197 non-null    int64  \n",
      " 4   Age              197 non-null    float64\n",
      " 5   Handedness       195 non-null    object \n",
      " 6   DX               193 non-null    float64\n",
      " 7   Secondary Dx     11 non-null     object \n",
      " 8   ADHD Measure     51 non-null     float64\n",
      " 9   ADHD Index       88 non-null     float64\n",
      " 10  Inattentive      88 non-null     float64\n",
      " 11  Hyper/Impulsive  88 non-null     float64\n",
      " 12  Med Status       197 non-null    int64  \n",
      " 13  IQ Measure       171 non-null    float64\n",
      " 14  Verbal IQ        137 non-null    float64\n",
      " 15  Performance IQ   137 non-null    float64\n",
      " 16  Full2 IQ         75 non-null     float64\n",
      " 17  Full4 IQ         170 non-null    float64\n",
      " 18  QC_Rest_1        197 non-null    int64  \n",
      " 19  QC_Rest_2        63 non-null     float64\n",
      " 20  QC_Rest_3        34 non-null     float64\n",
      " 21  QC_Rest_4        0 non-null      float64\n",
      " 22  QC_Anatomical_1  197 non-null    int64  \n",
      " 23  QC_Anatomical_2  0 non-null      float64\n",
      "dtypes: float64(15), int64(6), object(3)\n",
      "memory usage: 37.1+ KB\n"
     ]
    }
   ],
   "source": [
    "missing_value_formats = [\"pending\"]\n",
    "adhd_data = pd.read_csv('allSubs_testSet_phenotypic_dx.csv', na_values = missing_value_formats)\n",
    "adhd_data.info()"
   ]
  },
  {
   "cell_type": "markdown",
   "metadata": {},
   "source": [
    "# Dataset information"
   ]
  },
  {
   "cell_type": "markdown",
   "metadata": {},
   "source": [
    "### 1)Top Five Rows"
   ]
  },
  {
   "cell_type": "code",
   "execution_count": 16,
   "metadata": {},
   "outputs": [
    {
     "data": {
      "text/html": [
       "<div>\n",
       "<style scoped>\n",
       "    .dataframe tbody tr th:only-of-type {\n",
       "        vertical-align: middle;\n",
       "    }\n",
       "\n",
       "    .dataframe tbody tr th {\n",
       "        vertical-align: top;\n",
       "    }\n",
       "\n",
       "    .dataframe thead th {\n",
       "        text-align: right;\n",
       "    }\n",
       "</style>\n",
       "<table border=\"1\" class=\"dataframe\">\n",
       "  <thead>\n",
       "    <tr style=\"text-align: right;\">\n",
       "      <th></th>\n",
       "      <th>Disclaimer</th>\n",
       "      <th>ID</th>\n",
       "      <th>Site</th>\n",
       "      <th>Gender</th>\n",
       "      <th>Age</th>\n",
       "      <th>Handedness</th>\n",
       "      <th>DX</th>\n",
       "      <th>Secondary Dx</th>\n",
       "      <th>ADHD Measure</th>\n",
       "      <th>ADHD Index</th>\n",
       "      <th>...</th>\n",
       "      <th>Verbal IQ</th>\n",
       "      <th>Performance IQ</th>\n",
       "      <th>Full2 IQ</th>\n",
       "      <th>Full4 IQ</th>\n",
       "      <th>QC_Rest_1</th>\n",
       "      <th>QC_Rest_2</th>\n",
       "      <th>QC_Rest_3</th>\n",
       "      <th>QC_Rest_4</th>\n",
       "      <th>QC_Anatomical_1</th>\n",
       "      <th>QC_Anatomical_2</th>\n",
       "    </tr>\n",
       "  </thead>\n",
       "  <tbody>\n",
       "    <tr>\n",
       "      <th>0</th>\n",
       "      <td>NaN</td>\n",
       "      <td>1038415</td>\n",
       "      <td>1</td>\n",
       "      <td>1</td>\n",
       "      <td>14.92</td>\n",
       "      <td>1</td>\n",
       "      <td>3.0</td>\n",
       "      <td>ODD</td>\n",
       "      <td>1.0</td>\n",
       "      <td>52.0</td>\n",
       "      <td>...</td>\n",
       "      <td>109.0</td>\n",
       "      <td>103.0</td>\n",
       "      <td>-999.0</td>\n",
       "      <td>107.0</td>\n",
       "      <td>1</td>\n",
       "      <td>NaN</td>\n",
       "      <td>NaN</td>\n",
       "      <td>NaN</td>\n",
       "      <td>1</td>\n",
       "      <td>NaN</td>\n",
       "    </tr>\n",
       "    <tr>\n",
       "      <th>1</th>\n",
       "      <td>NaN</td>\n",
       "      <td>1201251</td>\n",
       "      <td>1</td>\n",
       "      <td>1</td>\n",
       "      <td>12.33</td>\n",
       "      <td>1</td>\n",
       "      <td>3.0</td>\n",
       "      <td>NaN</td>\n",
       "      <td>1.0</td>\n",
       "      <td>49.0</td>\n",
       "      <td>...</td>\n",
       "      <td>115.0</td>\n",
       "      <td>103.0</td>\n",
       "      <td>-999.0</td>\n",
       "      <td>110.0</td>\n",
       "      <td>1</td>\n",
       "      <td>NaN</td>\n",
       "      <td>NaN</td>\n",
       "      <td>NaN</td>\n",
       "      <td>1</td>\n",
       "      <td>NaN</td>\n",
       "    </tr>\n",
       "    <tr>\n",
       "      <th>2</th>\n",
       "      <td>NaN</td>\n",
       "      <td>1245758</td>\n",
       "      <td>1</td>\n",
       "      <td>0</td>\n",
       "      <td>8.58</td>\n",
       "      <td>1</td>\n",
       "      <td>0.0</td>\n",
       "      <td>NaN</td>\n",
       "      <td>1.0</td>\n",
       "      <td>35.0</td>\n",
       "      <td>...</td>\n",
       "      <td>121.0</td>\n",
       "      <td>88.0</td>\n",
       "      <td>-999.0</td>\n",
       "      <td>106.0</td>\n",
       "      <td>1</td>\n",
       "      <td>NaN</td>\n",
       "      <td>NaN</td>\n",
       "      <td>NaN</td>\n",
       "      <td>1</td>\n",
       "      <td>NaN</td>\n",
       "    </tr>\n",
       "    <tr>\n",
       "      <th>3</th>\n",
       "      <td>NaN</td>\n",
       "      <td>1253411</td>\n",
       "      <td>1</td>\n",
       "      <td>1</td>\n",
       "      <td>8.08</td>\n",
       "      <td>1</td>\n",
       "      <td>0.0</td>\n",
       "      <td>NaN</td>\n",
       "      <td>1.0</td>\n",
       "      <td>35.0</td>\n",
       "      <td>...</td>\n",
       "      <td>119.0</td>\n",
       "      <td>106.0</td>\n",
       "      <td>-999.0</td>\n",
       "      <td>114.0</td>\n",
       "      <td>1</td>\n",
       "      <td>NaN</td>\n",
       "      <td>NaN</td>\n",
       "      <td>NaN</td>\n",
       "      <td>1</td>\n",
       "      <td>NaN</td>\n",
       "    </tr>\n",
       "    <tr>\n",
       "      <th>4</th>\n",
       "      <td>NaN</td>\n",
       "      <td>1419103</td>\n",
       "      <td>1</td>\n",
       "      <td>0</td>\n",
       "      <td>9.92</td>\n",
       "      <td>1</td>\n",
       "      <td>0.0</td>\n",
       "      <td>NaN</td>\n",
       "      <td>1.0</td>\n",
       "      <td>41.0</td>\n",
       "      <td>...</td>\n",
       "      <td>124.0</td>\n",
       "      <td>76.0</td>\n",
       "      <td>-999.0</td>\n",
       "      <td>102.0</td>\n",
       "      <td>1</td>\n",
       "      <td>NaN</td>\n",
       "      <td>NaN</td>\n",
       "      <td>NaN</td>\n",
       "      <td>1</td>\n",
       "      <td>NaN</td>\n",
       "    </tr>\n",
       "  </tbody>\n",
       "</table>\n",
       "<p>5 rows × 24 columns</p>\n",
       "</div>"
      ],
      "text/plain": [
       "  Disclaimer       ID  Site  Gender    Age Handedness   DX Secondary Dx   \\\n",
       "0        NaN  1038415     1       1  14.92          1  3.0           ODD   \n",
       "1        NaN  1201251     1       1  12.33          1  3.0           NaN   \n",
       "2        NaN  1245758     1       0   8.58          1  0.0           NaN   \n",
       "3        NaN  1253411     1       1   8.08          1  0.0           NaN   \n",
       "4        NaN  1419103     1       0   9.92          1  0.0           NaN   \n",
       "\n",
       "   ADHD Measure  ADHD Index  ...  Verbal IQ  Performance IQ  Full2 IQ  \\\n",
       "0           1.0        52.0  ...      109.0           103.0    -999.0   \n",
       "1           1.0        49.0  ...      115.0           103.0    -999.0   \n",
       "2           1.0        35.0  ...      121.0            88.0    -999.0   \n",
       "3           1.0        35.0  ...      119.0           106.0    -999.0   \n",
       "4           1.0        41.0  ...      124.0            76.0    -999.0   \n",
       "\n",
       "   Full4 IQ  QC_Rest_1  QC_Rest_2  QC_Rest_3  QC_Rest_4  QC_Anatomical_1  \\\n",
       "0     107.0          1        NaN        NaN        NaN                1   \n",
       "1     110.0          1        NaN        NaN        NaN                1   \n",
       "2     106.0          1        NaN        NaN        NaN                1   \n",
       "3     114.0          1        NaN        NaN        NaN                1   \n",
       "4     102.0          1        NaN        NaN        NaN                1   \n",
       "\n",
       "   QC_Anatomical_2  \n",
       "0              NaN  \n",
       "1              NaN  \n",
       "2              NaN  \n",
       "3              NaN  \n",
       "4              NaN  \n",
       "\n",
       "[5 rows x 24 columns]"
      ]
     },
     "execution_count": 16,
     "metadata": {},
     "output_type": "execute_result"
    }
   ],
   "source": [
    "adhd_data.head()"
   ]
  },
  {
   "cell_type": "markdown",
   "metadata": {},
   "source": [
    "### 2) Displaying rows and columns "
   ]
  },
  {
   "cell_type": "code",
   "execution_count": 17,
   "metadata": {},
   "outputs": [
    {
     "data": {
      "text/plain": [
       "(197, 24)"
      ]
     },
     "execution_count": 17,
     "metadata": {},
     "output_type": "execute_result"
    }
   ],
   "source": [
    "adhd_data.shape"
   ]
  },
  {
   "cell_type": "markdown",
   "metadata": {},
   "source": [
    "### 3) Displaying the column names"
   ]
  },
  {
   "cell_type": "code",
   "execution_count": 18,
   "metadata": {},
   "outputs": [
    {
     "data": {
      "text/plain": [
       "Index(['Disclaimer', 'ID', 'Site', 'Gender', 'Age', 'Handedness', 'DX',\n",
       "       'Secondary Dx ', 'ADHD Measure', 'ADHD Index', 'Inattentive',\n",
       "       'Hyper/Impulsive', 'Med Status', 'IQ Measure', 'Verbal IQ',\n",
       "       'Performance IQ', 'Full2 IQ', 'Full4 IQ', 'QC_Rest_1', 'QC_Rest_2',\n",
       "       'QC_Rest_3', 'QC_Rest_4', 'QC_Anatomical_1', 'QC_Anatomical_2'],\n",
       "      dtype='object')"
      ]
     },
     "execution_count": 18,
     "metadata": {},
     "output_type": "execute_result"
    }
   ],
   "source": [
    "adhd_data.columns"
   ]
  },
  {
   "cell_type": "markdown",
   "metadata": {},
   "source": [
    "### 4) Displaying data type of each column  "
   ]
  },
  {
   "cell_type": "code",
   "execution_count": 19,
   "metadata": {},
   "outputs": [
    {
     "name": "stdout",
     "output_type": "stream",
     "text": [
      "<class 'pandas.core.frame.DataFrame'>\n",
      "RangeIndex: 197 entries, 0 to 196\n",
      "Data columns (total 24 columns):\n",
      " #   Column           Non-Null Count  Dtype  \n",
      "---  ------           --------------  -----  \n",
      " 0   Disclaimer       25 non-null     object \n",
      " 1   ID               197 non-null    int64  \n",
      " 2   Site             197 non-null    int64  \n",
      " 3   Gender           197 non-null    int64  \n",
      " 4   Age              197 non-null    float64\n",
      " 5   Handedness       195 non-null    object \n",
      " 6   DX               193 non-null    float64\n",
      " 7   Secondary Dx     11 non-null     object \n",
      " 8   ADHD Measure     51 non-null     float64\n",
      " 9   ADHD Index       88 non-null     float64\n",
      " 10  Inattentive      88 non-null     float64\n",
      " 11  Hyper/Impulsive  88 non-null     float64\n",
      " 12  Med Status       197 non-null    int64  \n",
      " 13  IQ Measure       171 non-null    float64\n",
      " 14  Verbal IQ        137 non-null    float64\n",
      " 15  Performance IQ   137 non-null    float64\n",
      " 16  Full2 IQ         75 non-null     float64\n",
      " 17  Full4 IQ         170 non-null    float64\n",
      " 18  QC_Rest_1        197 non-null    int64  \n",
      " 19  QC_Rest_2        63 non-null     float64\n",
      " 20  QC_Rest_3        34 non-null     float64\n",
      " 21  QC_Rest_4        0 non-null      float64\n",
      " 22  QC_Anatomical_1  197 non-null    int64  \n",
      " 23  QC_Anatomical_2  0 non-null      float64\n",
      "dtypes: float64(15), int64(6), object(3)\n",
      "memory usage: 37.1+ KB\n"
     ]
    }
   ],
   "source": [
    "adhd_data.info()"
   ]
  },
  {
   "cell_type": "markdown",
   "metadata": {},
   "source": [
    "### 5) displaying the number of null values"
   ]
  },
  {
   "cell_type": "code",
   "execution_count": 20,
   "metadata": {},
   "outputs": [
    {
     "data": {
      "text/plain": [
       "Disclaimer         172\n",
       "ID                   0\n",
       "Site                 0\n",
       "Gender               0\n",
       "Age                  0\n",
       "Handedness           2\n",
       "DX                   4\n",
       "Secondary Dx       186\n",
       "ADHD Measure       146\n",
       "ADHD Index         109\n",
       "Inattentive        109\n",
       "Hyper/Impulsive    109\n",
       "Med Status           0\n",
       "IQ Measure          26\n",
       "Verbal IQ           60\n",
       "Performance IQ      60\n",
       "Full2 IQ           122\n",
       "Full4 IQ            27\n",
       "QC_Rest_1            0\n",
       "QC_Rest_2          134\n",
       "QC_Rest_3          163\n",
       "QC_Rest_4          197\n",
       "QC_Anatomical_1      0\n",
       "QC_Anatomical_2    197\n",
       "dtype: int64"
      ]
     },
     "execution_count": 20,
     "metadata": {},
     "output_type": "execute_result"
    }
   ],
   "source": [
    "adhd_data.isnull().sum()"
   ]
  },
  {
   "cell_type": "markdown",
   "metadata": {},
   "source": [
    "# Pre-Processing Of Data"
   ]
  },
  {
   "cell_type": "markdown",
   "metadata": {},
   "source": [
    "### 1) Dropping the columns which are not relevant"
   ]
  },
  {
   "cell_type": "code",
   "execution_count": 21,
   "metadata": {},
   "outputs": [],
   "source": [
    "adhd_data = adhd_data.drop(adhd_data.columns[[0,5,7,19,20,21,23]], axis=1)"
   ]
  },
  {
   "cell_type": "markdown",
   "metadata": {},
   "source": [
    "### Resultant Data"
   ]
  },
  {
   "cell_type": "code",
   "execution_count": 22,
   "metadata": {},
   "outputs": [
    {
     "name": "stdout",
     "output_type": "stream",
     "text": [
      "<class 'pandas.core.frame.DataFrame'>\n",
      "RangeIndex: 197 entries, 0 to 196\n",
      "Data columns (total 17 columns):\n",
      " #   Column           Non-Null Count  Dtype  \n",
      "---  ------           --------------  -----  \n",
      " 0   ID               197 non-null    int64  \n",
      " 1   Site             197 non-null    int64  \n",
      " 2   Gender           197 non-null    int64  \n",
      " 3   Age              197 non-null    float64\n",
      " 4   DX               193 non-null    float64\n",
      " 5   ADHD Measure     51 non-null     float64\n",
      " 6   ADHD Index       88 non-null     float64\n",
      " 7   Inattentive      88 non-null     float64\n",
      " 8   Hyper/Impulsive  88 non-null     float64\n",
      " 9   Med Status       197 non-null    int64  \n",
      " 10  IQ Measure       171 non-null    float64\n",
      " 11  Verbal IQ        137 non-null    float64\n",
      " 12  Performance IQ   137 non-null    float64\n",
      " 13  Full2 IQ         75 non-null     float64\n",
      " 14  Full4 IQ         170 non-null    float64\n",
      " 15  QC_Rest_1        197 non-null    int64  \n",
      " 16  QC_Anatomical_1  197 non-null    int64  \n",
      "dtypes: float64(11), int64(6)\n",
      "memory usage: 26.3 KB\n"
     ]
    }
   ],
   "source": [
    "adhd_data.info()"
   ]
  },
  {
   "cell_type": "markdown",
   "metadata": {},
   "source": [
    "### 2) Filling the Null Values"
   ]
  },
  {
   "cell_type": "code",
   "execution_count": 23,
   "metadata": {},
   "outputs": [],
   "source": [
    "adhd_data.ffill(inplace=True)"
   ]
  },
  {
   "cell_type": "markdown",
   "metadata": {},
   "source": [
    "### Resultant Data"
   ]
  },
  {
   "cell_type": "code",
   "execution_count": 24,
   "metadata": {},
   "outputs": [
    {
     "name": "stdout",
     "output_type": "stream",
     "text": [
      "<class 'pandas.core.frame.DataFrame'>\n",
      "RangeIndex: 197 entries, 0 to 196\n",
      "Data columns (total 17 columns):\n",
      " #   Column           Non-Null Count  Dtype  \n",
      "---  ------           --------------  -----  \n",
      " 0   ID               197 non-null    int64  \n",
      " 1   Site             197 non-null    int64  \n",
      " 2   Gender           197 non-null    int64  \n",
      " 3   Age              197 non-null    float64\n",
      " 4   DX               197 non-null    float64\n",
      " 5   ADHD Measure     197 non-null    float64\n",
      " 6   ADHD Index       197 non-null    float64\n",
      " 7   Inattentive      197 non-null    float64\n",
      " 8   Hyper/Impulsive  197 non-null    float64\n",
      " 9   Med Status       197 non-null    int64  \n",
      " 10  IQ Measure       197 non-null    float64\n",
      " 11  Verbal IQ        197 non-null    float64\n",
      " 12  Performance IQ   197 non-null    float64\n",
      " 13  Full2 IQ         197 non-null    float64\n",
      " 14  Full4 IQ         197 non-null    float64\n",
      " 15  QC_Rest_1        197 non-null    int64  \n",
      " 16  QC_Anatomical_1  197 non-null    int64  \n",
      "dtypes: float64(11), int64(6)\n",
      "memory usage: 26.3 KB\n"
     ]
    }
   ],
   "source": [
    "adhd_data.info()"
   ]
  },
  {
   "cell_type": "markdown",
   "metadata": {},
   "source": [
    "# Some Stats On The Dataset"
   ]
  },
  {
   "cell_type": "code",
   "execution_count": 76,
   "metadata": {},
   "outputs": [
    {
     "data": {
      "text/html": [
       "<div>\n",
       "<style scoped>\n",
       "    .dataframe tbody tr th:only-of-type {\n",
       "        vertical-align: middle;\n",
       "    }\n",
       "\n",
       "    .dataframe tbody tr th {\n",
       "        vertical-align: top;\n",
       "    }\n",
       "\n",
       "    .dataframe thead th {\n",
       "        text-align: right;\n",
       "    }\n",
       "</style>\n",
       "<table border=\"1\" class=\"dataframe\">\n",
       "  <thead>\n",
       "    <tr style=\"text-align: right;\">\n",
       "      <th></th>\n",
       "      <th>ID</th>\n",
       "      <th>Site</th>\n",
       "      <th>Gender</th>\n",
       "      <th>Age</th>\n",
       "      <th>DX</th>\n",
       "      <th>ADHD Measure</th>\n",
       "      <th>ADHD Index</th>\n",
       "      <th>Inattentive</th>\n",
       "      <th>Hyper/Impulsive</th>\n",
       "      <th>Med Status</th>\n",
       "      <th>IQ Measure</th>\n",
       "      <th>Verbal IQ</th>\n",
       "      <th>Performance IQ</th>\n",
       "      <th>Full2 IQ</th>\n",
       "      <th>Full4 IQ</th>\n",
       "      <th>QC_Rest_1</th>\n",
       "      <th>QC_Anatomical_1</th>\n",
       "    </tr>\n",
       "  </thead>\n",
       "  <tbody>\n",
       "    <tr>\n",
       "      <th>count</th>\n",
       "      <td>1.970000e+02</td>\n",
       "      <td>197.000000</td>\n",
       "      <td>197.000000</td>\n",
       "      <td>197.000000</td>\n",
       "      <td>197.000000</td>\n",
       "      <td>197.0</td>\n",
       "      <td>197.000000</td>\n",
       "      <td>197.000000</td>\n",
       "      <td>197.000000</td>\n",
       "      <td>197.000000</td>\n",
       "      <td>197.000000</td>\n",
       "      <td>197.000000</td>\n",
       "      <td>197.000000</td>\n",
       "      <td>197.00000</td>\n",
       "      <td>197.000000</td>\n",
       "      <td>197.0</td>\n",
       "      <td>197.000000</td>\n",
       "    </tr>\n",
       "    <tr>\n",
       "      <th>mean</th>\n",
       "      <td>8.463027e+05</td>\n",
       "      <td>3.593909</td>\n",
       "      <td>0.583756</td>\n",
       "      <td>12.214670</td>\n",
       "      <td>0.954315</td>\n",
       "      <td>1.0</td>\n",
       "      <td>51.197970</td>\n",
       "      <td>40.134518</td>\n",
       "      <td>35.906091</td>\n",
       "      <td>1.385787</td>\n",
       "      <td>2.715736</td>\n",
       "      <td>113.101523</td>\n",
       "      <td>108.126904</td>\n",
       "      <td>-401.77665</td>\n",
       "      <td>112.080203</td>\n",
       "      <td>1.0</td>\n",
       "      <td>0.964467</td>\n",
       "    </tr>\n",
       "    <tr>\n",
       "      <th>std</th>\n",
       "      <td>1.734740e+06</td>\n",
       "      <td>2.019690</td>\n",
       "      <td>0.494191</td>\n",
       "      <td>3.769128</td>\n",
       "      <td>1.112519</td>\n",
       "      <td>0.0</td>\n",
       "      <td>76.752178</td>\n",
       "      <td>78.431554</td>\n",
       "      <td>78.105420</td>\n",
       "      <td>0.488021</td>\n",
       "      <td>1.040215</td>\n",
       "      <td>12.245359</td>\n",
       "      <td>12.797845</td>\n",
       "      <td>538.06565</td>\n",
       "      <td>12.331272</td>\n",
       "      <td>0.0</td>\n",
       "      <td>0.185594</td>\n",
       "    </tr>\n",
       "    <tr>\n",
       "      <th>min</th>\n",
       "      <td>2.000100e+04</td>\n",
       "      <td>1.000000</td>\n",
       "      <td>0.000000</td>\n",
       "      <td>7.260000</td>\n",
       "      <td>0.000000</td>\n",
       "      <td>1.0</td>\n",
       "      <td>-999.000000</td>\n",
       "      <td>-999.000000</td>\n",
       "      <td>-999.000000</td>\n",
       "      <td>1.000000</td>\n",
       "      <td>1.000000</td>\n",
       "      <td>80.000000</td>\n",
       "      <td>67.000000</td>\n",
       "      <td>-999.00000</td>\n",
       "      <td>77.000000</td>\n",
       "      <td>1.0</td>\n",
       "      <td>0.000000</td>\n",
       "    </tr>\n",
       "    <tr>\n",
       "      <th>25%</th>\n",
       "      <td>2.104300e+04</td>\n",
       "      <td>1.000000</td>\n",
       "      <td>0.000000</td>\n",
       "      <td>9.320000</td>\n",
       "      <td>0.000000</td>\n",
       "      <td>1.0</td>\n",
       "      <td>49.000000</td>\n",
       "      <td>27.000000</td>\n",
       "      <td>23.000000</td>\n",
       "      <td>1.000000</td>\n",
       "      <td>2.000000</td>\n",
       "      <td>104.000000</td>\n",
       "      <td>102.000000</td>\n",
       "      <td>-999.00000</td>\n",
       "      <td>106.000000</td>\n",
       "      <td>1.0</td>\n",
       "      <td>1.000000</td>\n",
       "    </tr>\n",
       "    <tr>\n",
       "      <th>50%</th>\n",
       "      <td>2.600500e+04</td>\n",
       "      <td>4.000000</td>\n",
       "      <td>1.000000</td>\n",
       "      <td>11.280000</td>\n",
       "      <td>1.000000</td>\n",
       "      <td>1.0</td>\n",
       "      <td>50.000000</td>\n",
       "      <td>27.000000</td>\n",
       "      <td>23.000000</td>\n",
       "      <td>1.000000</td>\n",
       "      <td>3.000000</td>\n",
       "      <td>112.000000</td>\n",
       "      <td>112.000000</td>\n",
       "      <td>75.00000</td>\n",
       "      <td>114.000000</td>\n",
       "      <td>1.0</td>\n",
       "      <td>1.000000</td>\n",
       "    </tr>\n",
       "    <tr>\n",
       "      <th>75%</th>\n",
       "      <td>1.201251e+06</td>\n",
       "      <td>5.000000</td>\n",
       "      <td>1.000000</td>\n",
       "      <td>14.530000</td>\n",
       "      <td>2.000000</td>\n",
       "      <td>1.0</td>\n",
       "      <td>75.000000</td>\n",
       "      <td>77.000000</td>\n",
       "      <td>72.000000</td>\n",
       "      <td>2.000000</td>\n",
       "      <td>3.000000</td>\n",
       "      <td>121.000000</td>\n",
       "      <td>117.000000</td>\n",
       "      <td>75.00000</td>\n",
       "      <td>119.000000</td>\n",
       "      <td>1.0</td>\n",
       "      <td>1.000000</td>\n",
       "    </tr>\n",
       "    <tr>\n",
       "      <th>max</th>\n",
       "      <td>9.744150e+06</td>\n",
       "      <td>7.000000</td>\n",
       "      <td>1.000000</td>\n",
       "      <td>26.310000</td>\n",
       "      <td>3.000000</td>\n",
       "      <td>1.0</td>\n",
       "      <td>90.000000</td>\n",
       "      <td>90.000000</td>\n",
       "      <td>90.000000</td>\n",
       "      <td>2.000000</td>\n",
       "      <td>5.000000</td>\n",
       "      <td>146.000000</td>\n",
       "      <td>143.000000</td>\n",
       "      <td>128.00000</td>\n",
       "      <td>144.000000</td>\n",
       "      <td>1.0</td>\n",
       "      <td>1.000000</td>\n",
       "    </tr>\n",
       "  </tbody>\n",
       "</table>\n",
       "</div>"
      ],
      "text/plain": [
       "                 ID        Site      Gender         Age          DX  \\\n",
       "count  1.970000e+02  197.000000  197.000000  197.000000  197.000000   \n",
       "mean   8.463027e+05    3.593909    0.583756   12.214670    0.954315   \n",
       "std    1.734740e+06    2.019690    0.494191    3.769128    1.112519   \n",
       "min    2.000100e+04    1.000000    0.000000    7.260000    0.000000   \n",
       "25%    2.104300e+04    1.000000    0.000000    9.320000    0.000000   \n",
       "50%    2.600500e+04    4.000000    1.000000   11.280000    1.000000   \n",
       "75%    1.201251e+06    5.000000    1.000000   14.530000    2.000000   \n",
       "max    9.744150e+06    7.000000    1.000000   26.310000    3.000000   \n",
       "\n",
       "       ADHD Measure  ADHD Index  Inattentive  Hyper/Impulsive  Med Status  \\\n",
       "count         197.0  197.000000   197.000000       197.000000  197.000000   \n",
       "mean            1.0   51.197970    40.134518        35.906091    1.385787   \n",
       "std             0.0   76.752178    78.431554        78.105420    0.488021   \n",
       "min             1.0 -999.000000  -999.000000      -999.000000    1.000000   \n",
       "25%             1.0   49.000000    27.000000        23.000000    1.000000   \n",
       "50%             1.0   50.000000    27.000000        23.000000    1.000000   \n",
       "75%             1.0   75.000000    77.000000        72.000000    2.000000   \n",
       "max             1.0   90.000000    90.000000        90.000000    2.000000   \n",
       "\n",
       "       IQ Measure   Verbal IQ  Performance IQ   Full2 IQ    Full4 IQ  \\\n",
       "count  197.000000  197.000000      197.000000  197.00000  197.000000   \n",
       "mean     2.715736  113.101523      108.126904 -401.77665  112.080203   \n",
       "std      1.040215   12.245359       12.797845  538.06565   12.331272   \n",
       "min      1.000000   80.000000       67.000000 -999.00000   77.000000   \n",
       "25%      2.000000  104.000000      102.000000 -999.00000  106.000000   \n",
       "50%      3.000000  112.000000      112.000000   75.00000  114.000000   \n",
       "75%      3.000000  121.000000      117.000000   75.00000  119.000000   \n",
       "max      5.000000  146.000000      143.000000  128.00000  144.000000   \n",
       "\n",
       "       QC_Rest_1  QC_Anatomical_1  \n",
       "count      197.0       197.000000  \n",
       "mean         1.0         0.964467  \n",
       "std          0.0         0.185594  \n",
       "min          1.0         0.000000  \n",
       "25%          1.0         1.000000  \n",
       "50%          1.0         1.000000  \n",
       "75%          1.0         1.000000  \n",
       "max          1.0         1.000000  "
      ]
     },
     "execution_count": 76,
     "metadata": {},
     "output_type": "execute_result"
    }
   ],
   "source": [
    "adhd_data.describe()"
   ]
  },
  {
   "cell_type": "markdown",
   "metadata": {},
   "source": [
    "### 1) Checking for duplicate values"
   ]
  },
  {
   "cell_type": "code",
   "execution_count": 25,
   "metadata": {},
   "outputs": [
    {
     "name": "stdout",
     "output_type": "stream",
     "text": [
      "Empty DataFrame\n",
      "Columns: [ID, Site, Gender, Age, DX, ADHD Measure, ADHD Index, Inattentive, Hyper/Impulsive, Med Status, IQ Measure, Verbal IQ, Performance IQ, Full2 IQ, Full4 IQ, QC_Rest_1, QC_Anatomical_1]\n",
      "Index: []\n"
     ]
    }
   ],
   "source": [
    "print(adhd_data[adhd_data.duplicated()])"
   ]
  },
  {
   "cell_type": "markdown",
   "metadata": {},
   "source": [
    "### 2) Checking the correlation of attributes with each other"
   ]
  },
  {
   "cell_type": "code",
   "execution_count": 26,
   "metadata": {},
   "outputs": [
    {
     "data": {
      "text/html": [
       "<div>\n",
       "<style scoped>\n",
       "    .dataframe tbody tr th:only-of-type {\n",
       "        vertical-align: middle;\n",
       "    }\n",
       "\n",
       "    .dataframe tbody tr th {\n",
       "        vertical-align: top;\n",
       "    }\n",
       "\n",
       "    .dataframe thead th {\n",
       "        text-align: right;\n",
       "    }\n",
       "</style>\n",
       "<table border=\"1\" class=\"dataframe\">\n",
       "  <thead>\n",
       "    <tr style=\"text-align: right;\">\n",
       "      <th></th>\n",
       "      <th>ID</th>\n",
       "      <th>Site</th>\n",
       "      <th>Gender</th>\n",
       "      <th>Age</th>\n",
       "      <th>DX</th>\n",
       "      <th>ADHD Measure</th>\n",
       "      <th>ADHD Index</th>\n",
       "      <th>Inattentive</th>\n",
       "      <th>Hyper/Impulsive</th>\n",
       "      <th>Med Status</th>\n",
       "      <th>IQ Measure</th>\n",
       "      <th>Verbal IQ</th>\n",
       "      <th>Performance IQ</th>\n",
       "      <th>Full2 IQ</th>\n",
       "      <th>Full4 IQ</th>\n",
       "      <th>QC_Rest_1</th>\n",
       "      <th>QC_Anatomical_1</th>\n",
       "    </tr>\n",
       "  </thead>\n",
       "  <tbody>\n",
       "    <tr>\n",
       "      <th>ID</th>\n",
       "      <td>1.000000</td>\n",
       "      <td>-0.612491</td>\n",
       "      <td>0.069546</td>\n",
       "      <td>-0.184157</td>\n",
       "      <td>0.085425</td>\n",
       "      <td>NaN</td>\n",
       "      <td>-0.367792</td>\n",
       "      <td>-0.405318</td>\n",
       "      <td>-0.401205</td>\n",
       "      <td>-0.223306</td>\n",
       "      <td>0.131287</td>\n",
       "      <td>0.202706</td>\n",
       "      <td>-0.163823</td>\n",
       "      <td>-0.529227</td>\n",
       "      <td>0.032733</td>\n",
       "      <td>NaN</td>\n",
       "      <td>0.039102</td>\n",
       "    </tr>\n",
       "    <tr>\n",
       "      <th>Site</th>\n",
       "      <td>-0.612491</td>\n",
       "      <td>1.000000</td>\n",
       "      <td>0.029139</td>\n",
       "      <td>-0.011733</td>\n",
       "      <td>-0.233094</td>\n",
       "      <td>NaN</td>\n",
       "      <td>0.251714</td>\n",
       "      <td>0.361901</td>\n",
       "      <td>0.358908</td>\n",
       "      <td>0.107993</td>\n",
       "      <td>-0.332074</td>\n",
       "      <td>-0.365735</td>\n",
       "      <td>0.167021</td>\n",
       "      <td>0.910063</td>\n",
       "      <td>-0.083783</td>\n",
       "      <td>NaN</td>\n",
       "      <td>-0.120358</td>\n",
       "    </tr>\n",
       "    <tr>\n",
       "      <th>Gender</th>\n",
       "      <td>0.069546</td>\n",
       "      <td>0.029139</td>\n",
       "      <td>1.000000</td>\n",
       "      <td>-0.070633</td>\n",
       "      <td>0.058035</td>\n",
       "      <td>NaN</td>\n",
       "      <td>0.088607</td>\n",
       "      <td>0.091553</td>\n",
       "      <td>0.091905</td>\n",
       "      <td>-0.113506</td>\n",
       "      <td>-0.151947</td>\n",
       "      <td>0.013763</td>\n",
       "      <td>-0.006126</td>\n",
       "      <td>0.004976</td>\n",
       "      <td>-0.025722</td>\n",
       "      <td>NaN</td>\n",
       "      <td>0.004800</td>\n",
       "    </tr>\n",
       "    <tr>\n",
       "      <th>Age</th>\n",
       "      <td>-0.184157</td>\n",
       "      <td>-0.011733</td>\n",
       "      <td>-0.070633</td>\n",
       "      <td>1.000000</td>\n",
       "      <td>0.100140</td>\n",
       "      <td>NaN</td>\n",
       "      <td>0.017700</td>\n",
       "      <td>-0.043185</td>\n",
       "      <td>-0.043518</td>\n",
       "      <td>0.221275</td>\n",
       "      <td>0.654273</td>\n",
       "      <td>0.156233</td>\n",
       "      <td>-0.048520</td>\n",
       "      <td>0.127432</td>\n",
       "      <td>0.019924</td>\n",
       "      <td>NaN</td>\n",
       "      <td>0.066318</td>\n",
       "    </tr>\n",
       "    <tr>\n",
       "      <th>DX</th>\n",
       "      <td>0.085425</td>\n",
       "      <td>-0.233094</td>\n",
       "      <td>0.058035</td>\n",
       "      <td>0.100140</td>\n",
       "      <td>1.000000</td>\n",
       "      <td>NaN</td>\n",
       "      <td>0.065385</td>\n",
       "      <td>0.032230</td>\n",
       "      <td>0.025286</td>\n",
       "      <td>0.135997</td>\n",
       "      <td>0.023991</td>\n",
       "      <td>-0.127366</td>\n",
       "      <td>-0.240039</td>\n",
       "      <td>-0.268710</td>\n",
       "      <td>-0.201674</td>\n",
       "      <td>NaN</td>\n",
       "      <td>0.041518</td>\n",
       "    </tr>\n",
       "    <tr>\n",
       "      <th>ADHD Measure</th>\n",
       "      <td>NaN</td>\n",
       "      <td>NaN</td>\n",
       "      <td>NaN</td>\n",
       "      <td>NaN</td>\n",
       "      <td>NaN</td>\n",
       "      <td>NaN</td>\n",
       "      <td>NaN</td>\n",
       "      <td>NaN</td>\n",
       "      <td>NaN</td>\n",
       "      <td>NaN</td>\n",
       "      <td>NaN</td>\n",
       "      <td>NaN</td>\n",
       "      <td>NaN</td>\n",
       "      <td>NaN</td>\n",
       "      <td>NaN</td>\n",
       "      <td>NaN</td>\n",
       "      <td>NaN</td>\n",
       "    </tr>\n",
       "    <tr>\n",
       "      <th>ADHD Index</th>\n",
       "      <td>-0.367792</td>\n",
       "      <td>0.251714</td>\n",
       "      <td>0.088607</td>\n",
       "      <td>0.017700</td>\n",
       "      <td>0.065385</td>\n",
       "      <td>NaN</td>\n",
       "      <td>1.000000</td>\n",
       "      <td>0.988169</td>\n",
       "      <td>0.987485</td>\n",
       "      <td>0.074774</td>\n",
       "      <td>-0.106906</td>\n",
       "      <td>-0.095159</td>\n",
       "      <td>-0.000623</td>\n",
       "      <td>0.213459</td>\n",
       "      <td>-0.041473</td>\n",
       "      <td>NaN</td>\n",
       "      <td>-0.042484</td>\n",
       "    </tr>\n",
       "    <tr>\n",
       "      <th>Inattentive</th>\n",
       "      <td>-0.405318</td>\n",
       "      <td>0.361901</td>\n",
       "      <td>0.091553</td>\n",
       "      <td>-0.043185</td>\n",
       "      <td>0.032230</td>\n",
       "      <td>NaN</td>\n",
       "      <td>0.988169</td>\n",
       "      <td>1.000000</td>\n",
       "      <td>0.996690</td>\n",
       "      <td>0.050089</td>\n",
       "      <td>-0.193953</td>\n",
       "      <td>-0.154442</td>\n",
       "      <td>0.001147</td>\n",
       "      <td>0.311387</td>\n",
       "      <td>-0.065094</td>\n",
       "      <td>NaN</td>\n",
       "      <td>-0.055750</td>\n",
       "    </tr>\n",
       "    <tr>\n",
       "      <th>Hyper/Impulsive</th>\n",
       "      <td>-0.401205</td>\n",
       "      <td>0.358908</td>\n",
       "      <td>0.091905</td>\n",
       "      <td>-0.043518</td>\n",
       "      <td>0.025286</td>\n",
       "      <td>NaN</td>\n",
       "      <td>0.987485</td>\n",
       "      <td>0.996690</td>\n",
       "      <td>1.000000</td>\n",
       "      <td>0.049811</td>\n",
       "      <td>-0.192364</td>\n",
       "      <td>-0.146797</td>\n",
       "      <td>-0.000942</td>\n",
       "      <td>0.309300</td>\n",
       "      <td>-0.063765</td>\n",
       "      <td>NaN</td>\n",
       "      <td>-0.054786</td>\n",
       "    </tr>\n",
       "    <tr>\n",
       "      <th>Med Status</th>\n",
       "      <td>-0.223306</td>\n",
       "      <td>0.107993</td>\n",
       "      <td>-0.113506</td>\n",
       "      <td>0.221275</td>\n",
       "      <td>0.135997</td>\n",
       "      <td>NaN</td>\n",
       "      <td>0.074774</td>\n",
       "      <td>0.050089</td>\n",
       "      <td>0.049811</td>\n",
       "      <td>1.000000</td>\n",
       "      <td>0.096524</td>\n",
       "      <td>0.019879</td>\n",
       "      <td>0.067276</td>\n",
       "      <td>0.064527</td>\n",
       "      <td>0.014586</td>\n",
       "      <td>NaN</td>\n",
       "      <td>-0.073201</td>\n",
       "    </tr>\n",
       "    <tr>\n",
       "      <th>IQ Measure</th>\n",
       "      <td>0.131287</td>\n",
       "      <td>-0.332074</td>\n",
       "      <td>-0.151947</td>\n",
       "      <td>0.654273</td>\n",
       "      <td>0.023991</td>\n",
       "      <td>NaN</td>\n",
       "      <td>-0.106906</td>\n",
       "      <td>-0.193953</td>\n",
       "      <td>-0.192364</td>\n",
       "      <td>0.096524</td>\n",
       "      <td>1.000000</td>\n",
       "      <td>0.359161</td>\n",
       "      <td>-0.014523</td>\n",
       "      <td>-0.017297</td>\n",
       "      <td>0.162160</td>\n",
       "      <td>NaN</td>\n",
       "      <td>0.079551</td>\n",
       "    </tr>\n",
       "    <tr>\n",
       "      <th>Verbal IQ</th>\n",
       "      <td>0.202706</td>\n",
       "      <td>-0.365735</td>\n",
       "      <td>0.013763</td>\n",
       "      <td>0.156233</td>\n",
       "      <td>-0.127366</td>\n",
       "      <td>NaN</td>\n",
       "      <td>-0.095159</td>\n",
       "      <td>-0.154442</td>\n",
       "      <td>-0.146797</td>\n",
       "      <td>0.019879</td>\n",
       "      <td>0.359161</td>\n",
       "      <td>1.000000</td>\n",
       "      <td>0.302366</td>\n",
       "      <td>-0.262593</td>\n",
       "      <td>0.706483</td>\n",
       "      <td>NaN</td>\n",
       "      <td>0.048739</td>\n",
       "    </tr>\n",
       "    <tr>\n",
       "      <th>Performance IQ</th>\n",
       "      <td>-0.163823</td>\n",
       "      <td>0.167021</td>\n",
       "      <td>-0.006126</td>\n",
       "      <td>-0.048520</td>\n",
       "      <td>-0.240039</td>\n",
       "      <td>NaN</td>\n",
       "      <td>-0.000623</td>\n",
       "      <td>0.001147</td>\n",
       "      <td>-0.000942</td>\n",
       "      <td>0.067276</td>\n",
       "      <td>-0.014523</td>\n",
       "      <td>0.302366</td>\n",
       "      <td>1.000000</td>\n",
       "      <td>0.117201</td>\n",
       "      <td>0.735826</td>\n",
       "      <td>NaN</td>\n",
       "      <td>-0.105494</td>\n",
       "    </tr>\n",
       "    <tr>\n",
       "      <th>Full2 IQ</th>\n",
       "      <td>-0.529227</td>\n",
       "      <td>0.910063</td>\n",
       "      <td>0.004976</td>\n",
       "      <td>0.127432</td>\n",
       "      <td>-0.268710</td>\n",
       "      <td>NaN</td>\n",
       "      <td>0.213459</td>\n",
       "      <td>0.311387</td>\n",
       "      <td>0.309300</td>\n",
       "      <td>0.064527</td>\n",
       "      <td>-0.017297</td>\n",
       "      <td>-0.262593</td>\n",
       "      <td>0.117201</td>\n",
       "      <td>1.000000</td>\n",
       "      <td>-0.061323</td>\n",
       "      <td>NaN</td>\n",
       "      <td>-0.060769</td>\n",
       "    </tr>\n",
       "    <tr>\n",
       "      <th>Full4 IQ</th>\n",
       "      <td>0.032733</td>\n",
       "      <td>-0.083783</td>\n",
       "      <td>-0.025722</td>\n",
       "      <td>0.019924</td>\n",
       "      <td>-0.201674</td>\n",
       "      <td>NaN</td>\n",
       "      <td>-0.041473</td>\n",
       "      <td>-0.065094</td>\n",
       "      <td>-0.063765</td>\n",
       "      <td>0.014586</td>\n",
       "      <td>0.162160</td>\n",
       "      <td>0.706483</td>\n",
       "      <td>0.735826</td>\n",
       "      <td>-0.061323</td>\n",
       "      <td>1.000000</td>\n",
       "      <td>NaN</td>\n",
       "      <td>-0.151456</td>\n",
       "    </tr>\n",
       "    <tr>\n",
       "      <th>QC_Rest_1</th>\n",
       "      <td>NaN</td>\n",
       "      <td>NaN</td>\n",
       "      <td>NaN</td>\n",
       "      <td>NaN</td>\n",
       "      <td>NaN</td>\n",
       "      <td>NaN</td>\n",
       "      <td>NaN</td>\n",
       "      <td>NaN</td>\n",
       "      <td>NaN</td>\n",
       "      <td>NaN</td>\n",
       "      <td>NaN</td>\n",
       "      <td>NaN</td>\n",
       "      <td>NaN</td>\n",
       "      <td>NaN</td>\n",
       "      <td>NaN</td>\n",
       "      <td>NaN</td>\n",
       "      <td>NaN</td>\n",
       "    </tr>\n",
       "    <tr>\n",
       "      <th>QC_Anatomical_1</th>\n",
       "      <td>0.039102</td>\n",
       "      <td>-0.120358</td>\n",
       "      <td>0.004800</td>\n",
       "      <td>0.066318</td>\n",
       "      <td>0.041518</td>\n",
       "      <td>NaN</td>\n",
       "      <td>-0.042484</td>\n",
       "      <td>-0.055750</td>\n",
       "      <td>-0.054786</td>\n",
       "      <td>-0.073201</td>\n",
       "      <td>0.079551</td>\n",
       "      <td>0.048739</td>\n",
       "      <td>-0.105494</td>\n",
       "      <td>-0.060769</td>\n",
       "      <td>-0.151456</td>\n",
       "      <td>NaN</td>\n",
       "      <td>1.000000</td>\n",
       "    </tr>\n",
       "  </tbody>\n",
       "</table>\n",
       "</div>"
      ],
      "text/plain": [
       "                       ID      Site    Gender       Age        DX  \\\n",
       "ID               1.000000 -0.612491  0.069546 -0.184157  0.085425   \n",
       "Site            -0.612491  1.000000  0.029139 -0.011733 -0.233094   \n",
       "Gender           0.069546  0.029139  1.000000 -0.070633  0.058035   \n",
       "Age             -0.184157 -0.011733 -0.070633  1.000000  0.100140   \n",
       "DX               0.085425 -0.233094  0.058035  0.100140  1.000000   \n",
       "ADHD Measure          NaN       NaN       NaN       NaN       NaN   \n",
       "ADHD Index      -0.367792  0.251714  0.088607  0.017700  0.065385   \n",
       "Inattentive     -0.405318  0.361901  0.091553 -0.043185  0.032230   \n",
       "Hyper/Impulsive -0.401205  0.358908  0.091905 -0.043518  0.025286   \n",
       "Med Status      -0.223306  0.107993 -0.113506  0.221275  0.135997   \n",
       "IQ Measure       0.131287 -0.332074 -0.151947  0.654273  0.023991   \n",
       "Verbal IQ        0.202706 -0.365735  0.013763  0.156233 -0.127366   \n",
       "Performance IQ  -0.163823  0.167021 -0.006126 -0.048520 -0.240039   \n",
       "Full2 IQ        -0.529227  0.910063  0.004976  0.127432 -0.268710   \n",
       "Full4 IQ         0.032733 -0.083783 -0.025722  0.019924 -0.201674   \n",
       "QC_Rest_1             NaN       NaN       NaN       NaN       NaN   \n",
       "QC_Anatomical_1  0.039102 -0.120358  0.004800  0.066318  0.041518   \n",
       "\n",
       "                 ADHD Measure  ADHD Index  Inattentive  Hyper/Impulsive  \\\n",
       "ID                        NaN   -0.367792    -0.405318        -0.401205   \n",
       "Site                      NaN    0.251714     0.361901         0.358908   \n",
       "Gender                    NaN    0.088607     0.091553         0.091905   \n",
       "Age                       NaN    0.017700    -0.043185        -0.043518   \n",
       "DX                        NaN    0.065385     0.032230         0.025286   \n",
       "ADHD Measure              NaN         NaN          NaN              NaN   \n",
       "ADHD Index                NaN    1.000000     0.988169         0.987485   \n",
       "Inattentive               NaN    0.988169     1.000000         0.996690   \n",
       "Hyper/Impulsive           NaN    0.987485     0.996690         1.000000   \n",
       "Med Status                NaN    0.074774     0.050089         0.049811   \n",
       "IQ Measure                NaN   -0.106906    -0.193953        -0.192364   \n",
       "Verbal IQ                 NaN   -0.095159    -0.154442        -0.146797   \n",
       "Performance IQ            NaN   -0.000623     0.001147        -0.000942   \n",
       "Full2 IQ                  NaN    0.213459     0.311387         0.309300   \n",
       "Full4 IQ                  NaN   -0.041473    -0.065094        -0.063765   \n",
       "QC_Rest_1                 NaN         NaN          NaN              NaN   \n",
       "QC_Anatomical_1           NaN   -0.042484    -0.055750        -0.054786   \n",
       "\n",
       "                 Med Status  IQ Measure  Verbal IQ  Performance IQ  Full2 IQ  \\\n",
       "ID                -0.223306    0.131287   0.202706       -0.163823 -0.529227   \n",
       "Site               0.107993   -0.332074  -0.365735        0.167021  0.910063   \n",
       "Gender            -0.113506   -0.151947   0.013763       -0.006126  0.004976   \n",
       "Age                0.221275    0.654273   0.156233       -0.048520  0.127432   \n",
       "DX                 0.135997    0.023991  -0.127366       -0.240039 -0.268710   \n",
       "ADHD Measure            NaN         NaN        NaN             NaN       NaN   \n",
       "ADHD Index         0.074774   -0.106906  -0.095159       -0.000623  0.213459   \n",
       "Inattentive        0.050089   -0.193953  -0.154442        0.001147  0.311387   \n",
       "Hyper/Impulsive    0.049811   -0.192364  -0.146797       -0.000942  0.309300   \n",
       "Med Status         1.000000    0.096524   0.019879        0.067276  0.064527   \n",
       "IQ Measure         0.096524    1.000000   0.359161       -0.014523 -0.017297   \n",
       "Verbal IQ          0.019879    0.359161   1.000000        0.302366 -0.262593   \n",
       "Performance IQ     0.067276   -0.014523   0.302366        1.000000  0.117201   \n",
       "Full2 IQ           0.064527   -0.017297  -0.262593        0.117201  1.000000   \n",
       "Full4 IQ           0.014586    0.162160   0.706483        0.735826 -0.061323   \n",
       "QC_Rest_1               NaN         NaN        NaN             NaN       NaN   \n",
       "QC_Anatomical_1   -0.073201    0.079551   0.048739       -0.105494 -0.060769   \n",
       "\n",
       "                 Full4 IQ  QC_Rest_1  QC_Anatomical_1  \n",
       "ID               0.032733        NaN         0.039102  \n",
       "Site            -0.083783        NaN        -0.120358  \n",
       "Gender          -0.025722        NaN         0.004800  \n",
       "Age              0.019924        NaN         0.066318  \n",
       "DX              -0.201674        NaN         0.041518  \n",
       "ADHD Measure          NaN        NaN              NaN  \n",
       "ADHD Index      -0.041473        NaN        -0.042484  \n",
       "Inattentive     -0.065094        NaN        -0.055750  \n",
       "Hyper/Impulsive -0.063765        NaN        -0.054786  \n",
       "Med Status       0.014586        NaN        -0.073201  \n",
       "IQ Measure       0.162160        NaN         0.079551  \n",
       "Verbal IQ        0.706483        NaN         0.048739  \n",
       "Performance IQ   0.735826        NaN        -0.105494  \n",
       "Full2 IQ        -0.061323        NaN        -0.060769  \n",
       "Full4 IQ         1.000000        NaN        -0.151456  \n",
       "QC_Rest_1             NaN        NaN              NaN  \n",
       "QC_Anatomical_1 -0.151456        NaN         1.000000  "
      ]
     },
     "execution_count": 26,
     "metadata": {},
     "output_type": "execute_result"
    }
   ],
   "source": [
    "adhd_data.corr()"
   ]
  },
  {
   "cell_type": "markdown",
   "metadata": {},
   "source": [
    "### 3) number of patients of different types"
   ]
  },
  {
   "cell_type": "code",
   "execution_count": 45,
   "metadata": {},
   "outputs": [
    {
     "data": {
      "text/plain": [
       "0.0    94\n",
       "1.0    50\n",
       "3.0    32\n",
       "2.0    21\n",
       "Name: DX, dtype: int64"
      ]
     },
     "execution_count": 45,
     "metadata": {},
     "output_type": "execute_result"
    }
   ],
   "source": [
    "adhd_data['DX'].value_counts()"
   ]
  },
  {
   "cell_type": "markdown",
   "metadata": {},
   "source": [
    "### Resultant Data"
   ]
  },
  {
   "cell_type": "code",
   "execution_count": 27,
   "metadata": {},
   "outputs": [
    {
     "data": {
      "text/plain": [
       "ID                 0\n",
       "Site               0\n",
       "Gender             0\n",
       "Age                0\n",
       "DX                 0\n",
       "ADHD Measure       0\n",
       "ADHD Index         0\n",
       "Inattentive        0\n",
       "Hyper/Impulsive    0\n",
       "Med Status         0\n",
       "IQ Measure         0\n",
       "Verbal IQ          0\n",
       "Performance IQ     0\n",
       "Full2 IQ           0\n",
       "Full4 IQ           0\n",
       "QC_Rest_1          0\n",
       "QC_Anatomical_1    0\n",
       "dtype: int64"
      ]
     },
     "execution_count": 27,
     "metadata": {},
     "output_type": "execute_result"
    }
   ],
   "source": [
    "adhd_data.isna().sum()"
   ]
  },
  {
   "cell_type": "markdown",
   "metadata": {},
   "source": [
    "# Visualising The Data"
   ]
  },
  {
   "cell_type": "markdown",
   "metadata": {},
   "source": [
    "### 1) Importing The Libraries"
   ]
  },
  {
   "cell_type": "code",
   "execution_count": 28,
   "metadata": {},
   "outputs": [],
   "source": [
    "import matplotlib.pyplot as plt\n",
    "%matplotlib inline\n",
    "import seaborn as sns"
   ]
  },
  {
   "cell_type": "markdown",
   "metadata": {},
   "source": [
    "### 2) Various Countplots"
   ]
  },
  {
   "cell_type": "markdown",
   "metadata": {},
   "source": [
    "#### Gender vs Counts"
   ]
  },
  {
   "cell_type": "code",
   "execution_count": 29,
   "metadata": {},
   "outputs": [
    {
     "name": "stderr",
     "output_type": "stream",
     "text": [
      "C:\\Users\\hp\\Anaconda3\\lib\\site-packages\\seaborn\\_decorators.py:43: FutureWarning: Pass the following variable as a keyword arg: x. From version 0.12, the only valid positional argument will be `data`, and passing other arguments without an explicit keyword will result in an error or misinterpretation.\n",
      "  FutureWarning\n"
     ]
    },
    {
     "data": {
      "text/plain": [
       "<matplotlib.axes._subplots.AxesSubplot at 0x1b4c8138f28>"
      ]
     },
     "execution_count": 29,
     "metadata": {},
     "output_type": "execute_result"
    },
    {
     "data": {
      "image/png": "[encoded data removed]",
      "text/plain": [
       "<Figure size 432x288 with 1 Axes>"
      ]
     },
     "metadata": {},
     "output_type": "display_data"
    }
   ],
   "source": [
    "sns.countplot(adhd_data['Gender'])"
   ]
  },
  {
   "cell_type": "markdown",
   "metadata": {},
   "source": [
    "#### Count vs Types "
   ]
  },
  {
   "cell_type": "code",
   "execution_count": 30,
   "metadata": {},
   "outputs": [
    {
     "name": "stderr",
     "output_type": "stream",
     "text": [
      "C:\\Users\\hp\\Anaconda3\\lib\\site-packages\\seaborn\\_decorators.py:43: FutureWarning: Pass the following variable as a keyword arg: x. From version 0.12, the only valid positional argument will be `data`, and passing other arguments without an explicit keyword will result in an error or misinterpretation.\n",
      "  FutureWarning\n"
     ]
    },
    {
     "data": {
      "text/plain": [
       "<matplotlib.axes._subplots.AxesSubplot at 0x1b4ca1f4128>"
      ]
     },
     "execution_count": 30,
     "metadata": {},
     "output_type": "execute_result"
    },
    {
     "data": {
      "image/png": "[encoded data removed]",
      "text/plain": [
       "<Figure size 432x288 with 1 Axes>"
      ]
     },
     "metadata": {},
     "output_type": "display_data"
    }
   ],
   "source": [
    "sns.countplot(adhd_data['DX'])"
   ]
  },
  {
   "cell_type": "markdown",
   "metadata": {},
   "source": [
    "#### Count vs Site"
   ]
  },
  {
   "cell_type": "code",
   "execution_count": 50,
   "metadata": {},
   "outputs": [
    {
     "name": "stderr",
     "output_type": "stream",
     "text": [
      "C:\\Users\\hp\\Anaconda3\\lib\\site-packages\\seaborn\\_decorators.py:43: FutureWarning: Pass the following variable as a keyword arg: x. From version 0.12, the only valid positional argument will be `data`, and passing other arguments without an explicit keyword will result in an error or misinterpretation.\n",
      "  FutureWarning\n"
     ]
    },
    {
     "data": {
      "text/plain": [
       "<matplotlib.axes._subplots.AxesSubplot at 0x2924343bac8>"
      ]
     },
     "execution_count": 50,
     "metadata": {},
     "output_type": "execute_result"
    },
    {
     "data": {
      "image/png": "[encoded data removed]",
      "text/plain": [
       "<Figure size 432x288 with 1 Axes>"
      ]
     },
     "metadata": {},
     "output_type": "display_data"
    }
   ],
   "source": [
    "sns.countplot(adhd_data['Site'])"
   ]
  },
  {
   "cell_type": "markdown",
   "metadata": {},
   "source": [
    "#### IQ Measure Vs Count"
   ]
  },
  {
   "cell_type": "code",
   "execution_count": 51,
   "metadata": {},
   "outputs": [
    {
     "name": "stderr",
     "output_type": "stream",
     "text": [
      "C:\\Users\\hp\\Anaconda3\\lib\\site-packages\\seaborn\\_decorators.py:43: FutureWarning: Pass the following variable as a keyword arg: x. From version 0.12, the only valid positional argument will be `data`, and passing other arguments without an explicit keyword will result in an error or misinterpretation.\n",
      "  FutureWarning\n"
     ]
    },
    {
     "data": {
      "text/plain": [
       "<matplotlib.axes._subplots.AxesSubplot at 0x2924349cba8>"
      ]
     },
     "execution_count": 51,
     "metadata": {},
     "output_type": "execute_result"
    },
    {
     "data": {
      "image/png": "[encoded data removed]",
      "text/plain": [
       "<Figure size 432x288 with 1 Axes>"
      ]
     },
     "metadata": {},
     "output_type": "display_data"
    }
   ],
   "source": [
    "sns.countplot(adhd_data['IQ Measure'])"
   ]
  },
  {
   "cell_type": "markdown",
   "metadata": {},
   "source": [
    "### 2) Various Barplots"
   ]
  },
  {
   "cell_type": "markdown",
   "metadata": {},
   "source": [
    "#### ADHD Index Vs Type and gender distribution"
   ]
  },
  {
   "cell_type": "code",
   "execution_count": 52,
   "metadata": {},
   "outputs": [
    {
     "data": {
      "text/plain": [
       "<matplotlib.axes._subplots.AxesSubplot at 0x29243506128>"
      ]
     },
     "execution_count": 52,
     "metadata": {},
     "output_type": "execute_result"
    },
    {
     "data": {
      "image/png": "[encoded data removed]",
      "text/plain": [
       "<Figure size 432x288 with 1 Axes>"
      ]
     },
     "metadata": {},
     "output_type": "display_data"
    }
   ],
   "source": [
    "sns.barplot(x = 'DX', y = 'ADHD Index', hue='Gender', data = adhd_data, palette='spring')  #shows that males with high adhd index are sure to have the disorder"
   ]
  },
  {
   "cell_type": "markdown",
   "metadata": {},
   "source": [
    "#### Inattentive Index Vs type and Gender Distribution"
   ]
  },
  {
   "cell_type": "code",
   "execution_count": 53,
   "metadata": {},
   "outputs": [
    {
     "data": {
      "text/plain": [
       "<matplotlib.axes._subplots.AxesSubplot at 0x292435729b0>"
      ]
     },
     "execution_count": 53,
     "metadata": {},
     "output_type": "execute_result"
    },
    {
     "data": {
      "image/png": "[encoded data removed]",
      "text/plain": [
       "<Figure size 432x288 with 1 Axes>"
      ]
     },
     "metadata": {},
     "output_type": "display_data"
    }
   ],
   "source": [
    "sns.barplot(x = 'DX', y = 'Inattentive', hue='Gender', data = adhd_data, palette='spring')  #shows that males who are more inattentive have the disorder"
   ]
  },
  {
   "cell_type": "markdown",
   "metadata": {},
   "source": [
    "### 3) Pie Chart"
   ]
  },
  {
   "cell_type": "markdown",
   "metadata": {},
   "source": [
    "#### Percentage Distribution"
   ]
  },
  {
   "cell_type": "code",
   "execution_count": 31,
   "metadata": {},
   "outputs": [
    {
     "data": {
      "image/png": "[encoded data removed]",
      "text/plain": [
       "<Figure size 432x288 with 1 Axes>"
      ]
     },
     "metadata": {},
     "output_type": "display_data"
    }
   ],
   "source": [
    "types = ['Typically Developing Children','ADHD-Combined','ADHD-Hyperactive/Impulsive','ADHD-Inattentive']\n",
    "sizes = ['94','50','32','21']\n",
    "color = ['gold', 'yellowgreen', 'lightcoral', 'skyblue']\n",
    "explode = (0.1,0,0,0)\n",
    "plt.pie(sizes,labels=types,colors=color,autopct='%1.1f%%',explode=explode,pctdistance=0.5,shadow=True)\n",
    "plt.title('Distribution by type')\n",
    "plt.show()"
   ]
  },
  {
   "cell_type": "markdown",
   "metadata": {},
   "source": [
    "# Applying Machine Learning Model"
   ]
  },
  {
   "cell_type": "markdown",
   "metadata": {},
   "source": [
    "### 1) Support Vector Machine"
   ]
  },
  {
   "cell_type": "markdown",
   "metadata": {},
   "source": [
    "#### Grouping the Data by type column"
   ]
  },
  {
   "cell_type": "code",
   "execution_count": 56,
   "metadata": {},
   "outputs": [
    {
     "data": {
      "text/html": [
       "<div>\n",
       "<style scoped>\n",
       "    .dataframe tbody tr th:only-of-type {\n",
       "        vertical-align: middle;\n",
       "    }\n",
       "\n",
       "    .dataframe tbody tr th {\n",
       "        vertical-align: top;\n",
       "    }\n",
       "\n",
       "    .dataframe thead th {\n",
       "        text-align: right;\n",
       "    }\n",
       "</style>\n",
       "<table border=\"1\" class=\"dataframe\">\n",
       "  <thead>\n",
       "    <tr style=\"text-align: right;\">\n",
       "      <th></th>\n",
       "      <th>ID</th>\n",
       "      <th>Site</th>\n",
       "      <th>Gender</th>\n",
       "      <th>Age</th>\n",
       "      <th>ADHD Measure</th>\n",
       "      <th>ADHD Index</th>\n",
       "      <th>Inattentive</th>\n",
       "      <th>Hyper/Impulsive</th>\n",
       "      <th>Med Status</th>\n",
       "      <th>IQ Measure</th>\n",
       "      <th>Verbal IQ</th>\n",
       "      <th>Performance IQ</th>\n",
       "      <th>Full2 IQ</th>\n",
       "      <th>Full4 IQ</th>\n",
       "      <th>QC_Rest_1</th>\n",
       "      <th>QC_Anatomical_1</th>\n",
       "    </tr>\n",
       "    <tr>\n",
       "      <th>DX</th>\n",
       "      <th></th>\n",
       "      <th></th>\n",
       "      <th></th>\n",
       "      <th></th>\n",
       "      <th></th>\n",
       "      <th></th>\n",
       "      <th></th>\n",
       "      <th></th>\n",
       "      <th></th>\n",
       "      <th></th>\n",
       "      <th></th>\n",
       "      <th></th>\n",
       "      <th></th>\n",
       "      <th></th>\n",
       "      <th></th>\n",
       "      <th></th>\n",
       "    </tr>\n",
       "  </thead>\n",
       "  <tbody>\n",
       "    <tr>\n",
       "      <th>0.0</th>\n",
       "      <td>7.962024e+05</td>\n",
       "      <td>3.936170</td>\n",
       "      <td>0.489362</td>\n",
       "      <td>11.994681</td>\n",
       "      <td>1.0</td>\n",
       "      <td>43.154255</td>\n",
       "      <td>34.627660</td>\n",
       "      <td>30.547872</td>\n",
       "      <td>1.329787</td>\n",
       "      <td>2.648936</td>\n",
       "      <td>114.968085</td>\n",
       "      <td>111.542553</td>\n",
       "      <td>-320.787234</td>\n",
       "      <td>114.978723</td>\n",
       "      <td>1.0</td>\n",
       "      <td>0.957447</td>\n",
       "    </tr>\n",
       "    <tr>\n",
       "      <th>1.0</th>\n",
       "      <td>8.014071e+05</td>\n",
       "      <td>3.960000</td>\n",
       "      <td>0.820000</td>\n",
       "      <td>11.680000</td>\n",
       "      <td>1.0</td>\n",
       "      <td>62.980000</td>\n",
       "      <td>52.480000</td>\n",
       "      <td>48.900000</td>\n",
       "      <td>1.340000</td>\n",
       "      <td>2.800000</td>\n",
       "      <td>110.840000</td>\n",
       "      <td>104.740000</td>\n",
       "      <td>-200.220000</td>\n",
       "      <td>108.716000</td>\n",
       "      <td>1.0</td>\n",
       "      <td>0.960000</td>\n",
       "    </tr>\n",
       "    <tr>\n",
       "      <th>2.0</th>\n",
       "      <td>1.941290e+05</td>\n",
       "      <td>2.142857</td>\n",
       "      <td>0.428571</td>\n",
       "      <td>13.795714</td>\n",
       "      <td>1.0</td>\n",
       "      <td>51.000000</td>\n",
       "      <td>29.047619</td>\n",
       "      <td>25.476190</td>\n",
       "      <td>1.666667</td>\n",
       "      <td>2.952381</td>\n",
       "      <td>115.000000</td>\n",
       "      <td>110.285714</td>\n",
       "      <td>-947.857143</td>\n",
       "      <td>115.000000</td>\n",
       "      <td>1.0</td>\n",
       "      <td>1.000000</td>\n",
       "    </tr>\n",
       "    <tr>\n",
       "      <th>3.0</th>\n",
       "      <td>1.491611e+06</td>\n",
       "      <td>2.968750</td>\n",
       "      <td>0.593750</td>\n",
       "      <td>12.658750</td>\n",
       "      <td>1.0</td>\n",
       "      <td>56.546875</td>\n",
       "      <td>44.296875</td>\n",
       "      <td>38.187500</td>\n",
       "      <td>1.437500</td>\n",
       "      <td>2.625000</td>\n",
       "      <td>109.906250</td>\n",
       "      <td>101.968750</td>\n",
       "      <td>-596.250000</td>\n",
       "      <td>106.906250</td>\n",
       "      <td>1.0</td>\n",
       "      <td>0.968750</td>\n",
       "    </tr>\n",
       "  </tbody>\n",
       "</table>\n",
       "</div>"
      ],
      "text/plain": [
       "               ID      Site    Gender        Age  ADHD Measure  ADHD Index  \\\n",
       "DX                                                                           \n",
       "0.0  7.962024e+05  3.936170  0.489362  11.994681           1.0   43.154255   \n",
       "1.0  8.014071e+05  3.960000  0.820000  11.680000           1.0   62.980000   \n",
       "2.0  1.941290e+05  2.142857  0.428571  13.795714           1.0   51.000000   \n",
       "3.0  1.491611e+06  2.968750  0.593750  12.658750           1.0   56.546875   \n",
       "\n",
       "     Inattentive  Hyper/Impulsive  Med Status  IQ Measure   Verbal IQ  \\\n",
       "DX                                                                      \n",
       "0.0    34.627660        30.547872    1.329787    2.648936  114.968085   \n",
       "1.0    52.480000        48.900000    1.340000    2.800000  110.840000   \n",
       "2.0    29.047619        25.476190    1.666667    2.952381  115.000000   \n",
       "3.0    44.296875        38.187500    1.437500    2.625000  109.906250   \n",
       "\n",
       "     Performance IQ    Full2 IQ    Full4 IQ  QC_Rest_1  QC_Anatomical_1  \n",
       "DX                                                                       \n",
       "0.0      111.542553 -320.787234  114.978723        1.0         0.957447  \n",
       "1.0      104.740000 -200.220000  108.716000        1.0         0.960000  \n",
       "2.0      110.285714 -947.857143  115.000000        1.0         1.000000  \n",
       "3.0      101.968750 -596.250000  106.906250        1.0         0.968750  "
      ]
     },
     "execution_count": 56,
     "metadata": {},
     "output_type": "execute_result"
    }
   ],
   "source": [
    "adhd_data.groupby('DX').mean()"
   ]
  },
  {
   "cell_type": "markdown",
   "metadata": {},
   "source": [
    "#### Selecting dependent and Independant Variables"
   ]
  },
  {
   "cell_type": "code",
   "execution_count": 58,
   "metadata": {},
   "outputs": [],
   "source": [
    "X = adhd_data.drop(columns=['DX','ID'], axis=1)\n",
    "Y = adhd_data['DX']"
   ]
  },
  {
   "cell_type": "code",
   "execution_count": 59,
   "metadata": {},
   "outputs": [
    {
     "name": "stdout",
     "output_type": "stream",
     "text": [
      "     Site  Gender    Age  ADHD Measure  ADHD Index  Inattentive  \\\n",
      "0       1       1  14.92           1.0        52.0         34.0   \n",
      "1       1       1  12.33           1.0        49.0         28.0   \n",
      "2       1       0   8.58           1.0        35.0         20.0   \n",
      "3       1       1   8.08           1.0        35.0         19.0   \n",
      "4       1       0   9.92           1.0        41.0         22.0   \n",
      "..    ...     ...    ...           ...         ...          ...   \n",
      "192     7       1  15.90           1.0        75.0         77.0   \n",
      "193     7       1  13.87           1.0        75.0         77.0   \n",
      "194     7       0  15.04           1.0        75.0         77.0   \n",
      "195     7       1  13.64           1.0        75.0         77.0   \n",
      "196     7       1  13.72           1.0        75.0         77.0   \n",
      "\n",
      "     Hyper/Impulsive  Med Status  IQ Measure  Verbal IQ  Performance IQ  \\\n",
      "0               18.0           1         3.0      109.0           103.0   \n",
      "1               21.0           2         3.0      115.0           103.0   \n",
      "2               15.0           1         3.0      121.0            88.0   \n",
      "3               16.0           1         3.0      119.0           106.0   \n",
      "4               19.0           1         3.0      124.0            76.0   \n",
      "..               ...         ...         ...        ...             ...   \n",
      "192             72.0           2         2.0      127.0           105.0   \n",
      "193             72.0           1         2.0      135.0           119.0   \n",
      "194             72.0           2         2.0       95.0            88.0   \n",
      "195             72.0           1         2.0      114.0           109.0   \n",
      "196             72.0           2         2.0      103.0           103.0   \n",
      "\n",
      "     Full2 IQ  Full4 IQ  QC_Rest_1  QC_Anatomical_1  \n",
      "0      -999.0     107.0          1                1  \n",
      "1      -999.0     110.0          1                1  \n",
      "2      -999.0     106.0          1                1  \n",
      "3      -999.0     114.0          1                1  \n",
      "4      -999.0     102.0          1                1  \n",
      "..        ...       ...        ...              ...  \n",
      "192      75.0     117.0          1                1  \n",
      "193      75.0     130.0          1                1  \n",
      "194      75.0      90.0          1                1  \n",
      "195      75.0     113.0          1                0  \n",
      "196      75.0     104.0          1                1  \n",
      "\n",
      "[197 rows x 15 columns]\n"
     ]
    }
   ],
   "source": [
    "print(X)"
   ]
  },
  {
   "cell_type": "code",
   "execution_count": 60,
   "metadata": {},
   "outputs": [
    {
     "name": "stdout",
     "output_type": "stream",
     "text": [
      "0      3.0\n",
      "1      3.0\n",
      "2      0.0\n",
      "3      0.0\n",
      "4      0.0\n",
      "      ... \n",
      "192    3.0\n",
      "193    0.0\n",
      "194    3.0\n",
      "195    0.0\n",
      "196    3.0\n",
      "Name: DX, Length: 197, dtype: float64\n"
     ]
    }
   ],
   "source": [
    "print(Y)"
   ]
  },
  {
   "cell_type": "markdown",
   "metadata": {},
   "source": [
    "#### Splitting The Data into Train and Test set "
   ]
  },
  {
   "cell_type": "code",
   "execution_count": 61,
   "metadata": {},
   "outputs": [],
   "source": [
    "X_train, X_test, Y_train, Y_test = train_test_split(X, Y, test_size=0.2, random_state=2)"
   ]
  },
  {
   "cell_type": "markdown",
   "metadata": {},
   "source": [
    "#### Shape of data after the split"
   ]
  },
  {
   "cell_type": "code",
   "execution_count": 62,
   "metadata": {},
   "outputs": [
    {
     "name": "stdout",
     "output_type": "stream",
     "text": [
      "(197, 15) (157, 15) (40, 15)\n"
     ]
    }
   ],
   "source": [
    "print(X.shape, X_train.shape, X_test.shape)"
   ]
  },
  {
   "cell_type": "markdown",
   "metadata": {},
   "source": [
    "#### Scaling The Data"
   ]
  },
  {
   "cell_type": "code",
   "execution_count": 63,
   "metadata": {},
   "outputs": [],
   "source": [
    "scaler = StandardScaler()"
   ]
  },
  {
   "cell_type": "code",
   "execution_count": 64,
   "metadata": {},
   "outputs": [
    {
     "data": {
      "text/plain": [
       "StandardScaler()"
      ]
     },
     "execution_count": 64,
     "metadata": {},
     "output_type": "execute_result"
    }
   ],
   "source": [
    "scaler.fit(X_train)"
   ]
  },
  {
   "cell_type": "markdown",
   "metadata": {},
   "source": [
    "#### Transforming The Data"
   ]
  },
  {
   "cell_type": "code",
   "execution_count": 65,
   "metadata": {},
   "outputs": [],
   "source": [
    "X_train = scaler.transform(X_train)\n",
    "\n",
    "X_test = scaler.transform(X_test)"
   ]
  },
  {
   "cell_type": "code",
   "execution_count": 66,
   "metadata": {},
   "outputs": [
    {
     "name": "stdout",
     "output_type": "stream",
     "text": [
      "[[ 0.65676192 -1.27148207 -1.27709943 ... -0.46623469  0.\n",
      "   0.21602469]\n",
      " [ 1.16470095 -1.27148207 -0.79374123 ...  0.11616122  0.\n",
      "   0.21602469]\n",
      " [ 0.1488229   0.78648376  1.22364322 ...  0.36575947  0.\n",
      "   0.21602469]\n",
      " ...\n",
      " [-0.86705515 -1.27148207  1.39917856 ... -0.05023761  0.\n",
      "   0.21602469]\n",
      " [-1.37499417 -1.27148207  0.71230113 ... -0.29983586  0.\n",
      "   0.21602469]\n",
      " [ 1.16470095 -1.27148207  0.03305567 ... -0.05023761  0.\n",
      "   0.21602469]]\n"
     ]
    }
   ],
   "source": [
    "print(X_train)"
   ]
  },
  {
   "cell_type": "markdown",
   "metadata": {},
   "source": [
    "#### Building The Model"
   ]
  },
  {
   "cell_type": "code",
   "execution_count": 67,
   "metadata": {},
   "outputs": [],
   "source": [
    "model = svm.SVC(kernel='linear')"
   ]
  },
  {
   "cell_type": "markdown",
   "metadata": {},
   "source": [
    "#### Fitting The Model"
   ]
  },
  {
   "cell_type": "code",
   "execution_count": 68,
   "metadata": {},
   "outputs": [
    {
     "data": {
      "text/plain": [
       "SVC(kernel='linear')"
      ]
     },
     "execution_count": 68,
     "metadata": {},
     "output_type": "execute_result"
    }
   ],
   "source": [
    "model.fit(X_train, Y_train)"
   ]
  },
  {
   "cell_type": "markdown",
   "metadata": {},
   "source": [
    "#### Accuracy"
   ]
  },
  {
   "cell_type": "code",
   "execution_count": 69,
   "metadata": {},
   "outputs": [],
   "source": [
    "X_train_prediction = model.predict(X_train)\n",
    "training_data_accuracy = accuracy_score(Y_train, X_train_prediction)"
   ]
  },
  {
   "cell_type": "code",
   "execution_count": 70,
   "metadata": {},
   "outputs": [
    {
     "name": "stdout",
     "output_type": "stream",
     "text": [
      "Accuracy score of training data :  0.6942675159235668\n"
     ]
    }
   ],
   "source": [
    "print('Accuracy score of training data : ', training_data_accuracy)"
   ]
  },
  {
   "cell_type": "code",
   "execution_count": 71,
   "metadata": {},
   "outputs": [],
   "source": [
    "X_test_prediction = model.predict(X_test)\n",
    "test_data_accuracy = accuracy_score(Y_test, X_test_prediction)"
   ]
  },
  {
   "cell_type": "code",
   "execution_count": 72,
   "metadata": {},
   "outputs": [
    {
     "name": "stdout",
     "output_type": "stream",
     "text": [
      "Accuracy score of test data :  0.675\n"
     ]
    }
   ],
   "source": [
    "print('Accuracy score of test data : ', test_data_accuracy)"
   ]
  },
  {
   "cell_type": "markdown",
   "metadata": {},
   "source": [
    "#### Predicting the Results"
   ]
  },
  {
   "cell_type": "code",
   "execution_count": 74,
   "metadata": {},
   "outputs": [
    {
     "name": "stdout",
     "output_type": "stream",
     "text": [
      "3\n",
      "The Person has ADHD-Inattentive\n"
     ]
    }
   ],
   "source": [
    "input_data = (1,1,14,1,52,34,18,1,3,109,103,-999,107,1,1)\n",
    "\n",
    "# changing input data to a numpy array\n",
    "input_data_as_numpy_array = np.asarray(input_data)\n",
    "\n",
    "# reshape the numpy array\n",
    "input_data_reshaped = input_data_as_numpy_array.reshape(1,-1)\n",
    "\n",
    "# standardize the data\n",
    "std_data = scaler.transform(input_data_reshaped)\n",
    "\n",
    "prediction = model.predict(std_data)\n",
    "print(int(prediction))\n",
    "\n",
    "\n",
    "if (int(prediction[0]) == 0):\n",
    "    print(\"The Person has Developing ADHD\")\n",
    "elif(int(prediction[0]) == 1):\n",
    "    print(\"the person has ADHD-Combined\")\n",
    "elif(int(prediction[0]) == 2):\n",
    "    print(\"the person has ADHD-Hyperactive/Impulsive\")\n",
    "else:\n",
    "    print(\"The Person has ADHD-Inattentive\")"
   ]
  },
  {
   "cell_type": "markdown",
   "metadata": {},
   "source": [
    "### 2) Decision Tree Classifier"
   ]
  },
  {
   "cell_type": "markdown",
   "metadata": {},
   "source": [
    "#### Importing The Libraries"
   ]
  },
  {
   "cell_type": "code",
   "execution_count": 92,
   "metadata": {},
   "outputs": [],
   "source": [
    "from sklearn.tree import DecisionTreeClassifier"
   ]
  },
  {
   "cell_type": "markdown",
   "metadata": {},
   "source": [
    "#### Selecting dependent and Independant Variables"
   ]
  },
  {
   "cell_type": "code",
   "execution_count": 93,
   "metadata": {},
   "outputs": [],
   "source": [
    "X = adhd_data.drop(columns=['DX','ID'], axis=1)\n",
    "Y = adhd_data['DX']"
   ]
  },
  {
   "cell_type": "markdown",
   "metadata": {},
   "source": [
    "#### Splitting Data Into Test and Train"
   ]
  },
  {
   "cell_type": "code",
   "execution_count": 94,
   "metadata": {},
   "outputs": [],
   "source": [
    "X_train, X_test, y_train, y_test = train_test_split(X, Y, test_size=0.2, random_state=1) "
   ]
  },
  {
   "cell_type": "markdown",
   "metadata": {},
   "source": [
    "#### Shape of data after the split"
   ]
  },
  {
   "cell_type": "code",
   "execution_count": 100,
   "metadata": {},
   "outputs": [
    {
     "name": "stdout",
     "output_type": "stream",
     "text": [
      "(197, 15) (157, 15) (40, 15)\n"
     ]
    }
   ],
   "source": [
    "print(X.shape, X_train.shape, X_test.shape)"
   ]
  },
  {
   "cell_type": "markdown",
   "metadata": {},
   "source": [
    "#### Scaling The Data"
   ]
  },
  {
   "cell_type": "code",
   "execution_count": 101,
   "metadata": {},
   "outputs": [],
   "source": [
    "scaler = StandardScaler()"
   ]
  },
  {
   "cell_type": "code",
   "execution_count": 102,
   "metadata": {},
   "outputs": [
    {
     "data": {
      "text/plain": [
       "StandardScaler()"
      ]
     },
     "execution_count": 102,
     "metadata": {},
     "output_type": "execute_result"
    }
   ],
   "source": [
    "scaler.fit(X_train)"
   ]
  },
  {
   "cell_type": "markdown",
   "metadata": {},
   "source": [
    "#### Transforming The Data"
   ]
  },
  {
   "cell_type": "code",
   "execution_count": 103,
   "metadata": {},
   "outputs": [],
   "source": [
    "X_train = scaler.transform(X_train)\n",
    "\n",
    "X_test = scaler.transform(X_test)"
   ]
  },
  {
   "cell_type": "code",
   "execution_count": 104,
   "metadata": {},
   "outputs": [
    {
     "name": "stdout",
     "output_type": "stream",
     "text": [
      "[[-0.79675207  0.79713027  1.35487068 ...  0.58878026  0.\n",
      "   0.19933665]\n",
      " [ 0.71035727  0.79713027 -0.78850632 ...  0.51065441  0.\n",
      "   0.19933665]\n",
      " [-1.29912185 -1.2545001   0.46320334 ... -0.34872989  0.\n",
      "   0.19933665]\n",
      " ...\n",
      " [-0.79675207 -1.2545001   1.6220896  ... -0.03622651  0.\n",
      "   0.19933665]\n",
      " [ 0.71035727 -1.2545001  -0.91789653 ...  0.58878026  0.\n",
      "   0.19933665]\n",
      " [-1.29912185  0.79713027  0.34506445 ... -1.0518625   0.\n",
      "   0.19933665]]\n"
     ]
    }
   ],
   "source": [
    "print(X_train)"
   ]
  },
  {
   "cell_type": "markdown",
   "metadata": {},
   "source": [
    "#### Building And Fitting The Model"
   ]
  },
  {
   "cell_type": "code",
   "execution_count": 107,
   "metadata": {},
   "outputs": [
    {
     "data": {
      "text/plain": [
       "DecisionTreeClassifier()"
      ]
     },
     "execution_count": 107,
     "metadata": {},
     "output_type": "execute_result"
    }
   ],
   "source": [
    "clf = DecisionTreeClassifier()\n",
    "# Train Decision Tree Classifer\n",
    "clf.fit(X_train,y_train)"
   ]
  },
  {
   "cell_type": "markdown",
   "metadata": {},
   "source": [
    "#### Accuracy"
   ]
  },
  {
   "cell_type": "code",
   "execution_count": 108,
   "metadata": {},
   "outputs": [],
   "source": [
    "X_train_prediction = clf.predict(X_train)\n",
    "training_data_accuracy = accuracy_score(y_train, X_train_prediction)"
   ]
  },
  {
   "cell_type": "code",
   "execution_count": 110,
   "metadata": {},
   "outputs": [],
   "source": [
    "X_test_prediction = clf.predict(X_test)\n",
    "test_data_accuracy = accuracy_score(y_test, X_test_prediction)"
   ]
  },
  {
   "cell_type": "code",
   "execution_count": 111,
   "metadata": {},
   "outputs": [
    {
     "name": "stdout",
     "output_type": "stream",
     "text": [
      "Accuracy score of test data :  0.75\n"
     ]
    }
   ],
   "source": [
    "print('Accuracy score of test data : ', test_data_accuracy)"
   ]
  },
  {
   "cell_type": "markdown",
   "metadata": {},
   "source": [
    "#### Predicting The Results"
   ]
  },
  {
   "cell_type": "code",
   "execution_count": 112,
   "metadata": {},
   "outputs": [
    {
     "name": "stdout",
     "output_type": "stream",
     "text": [
      "3\n",
      "The Person has ADHD-Inattentive\n"
     ]
    }
   ],
   "source": [
    "input_data = (1,1,14,1,52,34,18,1,3,109,103,-999,107,1,1)\n",
    "\n",
    "# changing input data to a numpy array\n",
    "input_data_as_numpy_array = np.asarray(input_data)\n",
    "\n",
    "# reshape the numpy array\n",
    "input_data_reshaped = input_data_as_numpy_array.reshape(1,-1)\n",
    "\n",
    "# standardize the data\n",
    "std_data = scaler.transform(input_data_reshaped)\n",
    "\n",
    "prediction = clf.predict(std_data)\n",
    "print(int(prediction))\n",
    "\n",
    "\n",
    "if (int(prediction[0]) == 0):\n",
    "    print(\"The Person has Developing ADHD\")\n",
    "elif(int(prediction[0]) == 1):\n",
    "    print(\"the person has ADHD-Combined\")\n",
    "elif(int(prediction[0]) == 2):\n",
    "    print(\"the person has ADHD-Hyperactive/Impulsive\")\n",
    "else:\n",
    "    print(\"The Person has ADHD-Inattentive\")"
   ]
  }
 ],
 "metadata": {
  "kernelspec": {
   "display_name": "Python 3",
   "language": "python",
   "name": "python3"
  },
  "language_info": {
   "codemirror_mode": {
    "name": "ipython",
    "version": 3
   },
   "file_extension": ".py",
   "mimetype": "text/x-python",
   "name": "python",
   "nbconvert_exporter": "python",
   "pygments_lexer": "ipython3",
   "version": "3.6.5"
  }
 },
 "nbformat": 4,
 "nbformat_minor": 2
}
